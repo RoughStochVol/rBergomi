{
 "cells": [
  {
   "cell_type": "markdown",
   "metadata": {},
   "source": [
    "# rBergomi calibration with conditioning\n",
    "\n",
    "### Cleaned version\n",
    "\n",
    "$$\n",
    "\\newcommand{\\cE}{\\mathcal{E}}\n",
    "\\newcommand{\\bi}{\\begin{itemize}}\n",
    "\\newcommand{\\ei}{\\end{itemize}}\n",
    "\\newcommand{\\beq}{\\begin{equation}}\n",
    "\\newcommand{\\eeq}{\\end{equation}}\n",
    "\\newcommand{\\beas}{\\begin{eqnarray*}}\n",
    "\\newcommand{\\eeas}{\\end{eqnarray*}}\n",
    "\\newcommand{\\bv}{\\begin{verbatim}}\n",
    "\\newcommand{\\ev}{\\end{verbatim}}\n",
    "\\newcommand{\\dsum}{\\displaystyle\\sum}\n",
    "\\newcommand{\\sgn}{\\mathrm{sign}}\n",
    "\\newcommand{\\ee}[1]{\\mathbb{E}\\left[{#1}\\right]}\n",
    "\\newcommand{\\eef}[1]{\\mathbb{E}\\left[\\left.{#1}\\right|\\cF_t\\right]}\n",
    "\\newcommand{\\eefm}[2]{\\mathbb{E}^{#2}\\left[\\left.{#1}\\right|\\cF_t\\right]}\n",
    "$$"
   ]
  },
  {
   "cell_type": "markdown",
   "metadata": {},
   "source": [
    "### Abstract\n",
    "\n",
    "In this notebook, for a given set of parameters, we simulate the rough volatility model using the Hybrid BSS scheme with a view to calibrating to observed options prices.\n",
    "\n",
    "In this version, we seek to completely change the logic of the code that should now proceed as follows:\n",
    "\n",
    "- Compute Chebyshev knots\n",
    "- Generate matrices of $W$ and $\\tilde W$ for each of the (5) values of $H$\n",
    "- Compute option values for all possible values of the parameters using conditioning\n",
    "- Compute values of the objective function"
   ]
  },
  {
   "cell_type": "code",
   "execution_count": 4,
   "metadata": {
    "collapsed": false
   },
   "outputs": [],
   "source": [
    "setwd(\"/Users/bayerc/Documents/gatheral/chebyshev/rBergomiR/new\")\n",
    "load(\"spxOptionMetricsIVols.rdata\")"
   ]
  },
  {
   "cell_type": "markdown",
   "metadata": {},
   "source": [
    "The following code implements the efficient simulation scheme of  <span>[Bennedsen, Lunde and Pakkanen]<sup id=\"cite_ref-BLP\" class=\"reference\"><a href=\"#cite_note-BLP\"><span>[</span>2<span>]</span></a></sup> .  Although this code assumes a flat variance swap curve, as we found earlier, normalized smiles are independent of the curve."
   ]
  },
  {
   "cell_type": "code",
   "execution_count": 5,
   "metadata": {
    "collapsed": false
   },
   "outputs": [],
   "source": [
    "source(\"hybridScheme.R\")\n",
    "source(\"BlackScholes.R\")\n",
    "source(\"rBergomiObjectiveConditioned.R\")"
   ]
  },
  {
   "cell_type": "code",
   "execution_count": 9,
   "metadata": {
    "collapsed": false
   },
   "outputs": [
    {
     "name": "stderr",
     "output_type": "stream",
     "text": [
      "Updating HTML index of packages in '.Library'\n",
      "Making 'packages.html' ... done\n"
     ]
    }
   ],
   "source": [
    "install.packages(\"chebpol\")"
   ]
  },
  {
   "cell_type": "code",
   "execution_count": 10,
   "metadata": {
    "collapsed": false
   },
   "outputs": [
    {
     "name": "stderr",
     "output_type": "stream",
     "text": [
      "*** chebpol: FFTW not used.\n",
      "*** You should install it from http://fftw.org\n",
      "*** or check if your OS-distribution provides it, and recompile.\n",
      "Loading required package: iterators\n",
      "Loading required package: parallel\n"
     ]
    }
   ],
   "source": [
    "library(stinepack)\n",
    "library(chebpol)\n",
    "library(foreach)\n",
    "library(doParallel)"
   ]
  },
  {
   "cell_type": "markdown",
   "metadata": {},
   "source": [
    "- In the old code, for each $K$ and $t$, we compute the option price from a vector of $S_t$ of length $paths$.\n",
    "- Now, for each $K$ and $t$, we compute the option price from two vectors of length $paths$: \n",
    "$$\n",
    "w_t := \\int_0^1 \\,{\\xi(t\\,u)\\,t}\\,\\cE\\left(\\eta\\,t^H\\, \\tilde W_u   \\right)\\,du\n",
    "$$\n",
    "and\n",
    "$$\n",
    "y_t := \\int_0^1\\,\\sqrt{\\xi(t\\,u)\\,t}\\,\\sqrt{\\cE\\left(\\eta\\,t^H\\, \\tilde W_u   \\right)}\\,dW_u .\n",
    "$$\n",
    "Note that these depend only on $\\eta$ and $H$ and not on $\\rho$.\n"
   ]
  },
  {
   "cell_type": "code",
   "execution_count": 11,
   "metadata": {
    "collapsed": false
   },
   "outputs": [
    {
     "data": {
      "text/plain": [
       "   user  system elapsed \n",
       "  1.132   0.498   8.686 "
      ]
     },
     "metadata": {},
     "output_type": "display_data"
    }
   ],
   "source": [
    "system.time(mcMatrix <- gen.WtildeH(H=0.05, paths=1e5, steps=200, distrib = 2000, max.cores = 8))"
   ]
  },
  {
   "cell_type": "markdown",
   "metadata": {},
   "source": [
    "### Define the domain of the parameters"
   ]
  },
  {
   "cell_type": "code",
   "execution_count": 12,
   "metadata": {
    "collapsed": true
   },
   "outputs": [],
   "source": [
    "H.int <- c(0.02, 0.1)\n",
    "etaTilde.int <- c(0.4, 0.8) # etaTilde = eta * sqrt(2*H)\n",
    "rho.int <- c(-1.0, -0.8)\n",
    "domain <- list(H.int, etaTilde.int, rho.int)"
   ]
  },
  {
   "cell_type": "markdown",
   "metadata": {},
   "source": [
    "### Given $H$, $\\eta$ and $t$, compute $w_t$ and $y_t$"
   ]
  },
  {
   "cell_type": "markdown",
   "metadata": {},
   "source": [
    "In the following code, `xi` is a function of time"
   ]
  },
  {
   "cell_type": "code",
   "execution_count": 13,
   "metadata": {
    "collapsed": true
   },
   "outputs": [],
   "source": [
    "wy.list <- function(xi,H,etaTilde,pathMatrix){\n",
    "    \n",
    "    eta <- etaTilde/sqrt(2*H)\n",
    "    \n",
    "    steps <- dim(pathMatrix)[1]/2 # Number of time steps\n",
    "    dt <- 1/steps\n",
    "    sqrt.dt <- sqrt(dt)\n",
    "    sqrt.2H <- sqrt(2 * H)\n",
    "    x <- 1:steps\n",
    "    ti <- x*dt\n",
    "    ti.2H <- ti^(2 * H)\n",
    "    \n",
    "    function(expiry){ # k is vector of log-strikes\n",
    "        xi.t <- xi(expiry*ti)\n",
    "        eta.t <- eta * expiry^H\n",
    "        tseq <- eta.t * eta.t/2 * ti.2H\n",
    "        \n",
    "        wy.path <- function(path){\n",
    "            W <- path[1:steps]\n",
    "            Wtilde <- path[(steps+1):(2*steps)]\n",
    "            vtilde <- exp(eta.t * sqrt.2H * Wtilde - tseq)  # j is the path number\n",
    "            v <- xi(expiry*ti)*vtilde\n",
    "            v.t <- c(xi(0), v[-steps])*expiry\n",
    "            w.t <- sum(v.t) * dt\n",
    "            y.t <- sum(sqrt(v.t) * W) * sqrt.dt\n",
    "            return(c(w.t,y.t)) # So for each path, we have the vectors w.t and y.t \n",
    "        }\n",
    "    \n",
    "        wy <- apply(pathMatrix,2,wy.path) # Now we have a matrix with paths as columns and BS values as rows\n",
    "        return(wy)\n",
    "        #return(list(w.t=wy[1,],y.t=wy[2,]))\n",
    "        }\n",
    "    }\n",
    "    "
   ]
  },
  {
   "cell_type": "markdown",
   "metadata": {},
   "source": [
    "### Final step: Compute option values given strike price and $w_t$, $y_t$"
   ]
  },
  {
   "cell_type": "markdown",
   "metadata": {},
   "source": [
    "Given $H$ and $\\eta$, for each $\\rho$, we want to compute\n",
    "\n",
    "$$\n",
    "\\ee{(S_T-K)^+} \n",
    "= K\\,\\ee{e^{\\hat x_T}\\, N\\left( \\frac{\\hat x_T}{\\sigma_T} + \\frac{\\sigma_T}{2}\\right) -  N\\left( \\frac{\\hat x_T}{\\sigma_T} - \\frac{\\sigma_T}{2}\\right)}\n",
    "$$\n",
    "\n",
    "with\n",
    "\n",
    "$$\n",
    "\\sigma_T^2 = {\\bar \\rho}^2\\,\\int_0^1 \\,{\\xi(t\\,u)\\,t}\\,\\cE\\left(\\eta\\,t^H\\, \\tilde W_u   \\right)\\,du = {\\bar \\rho}^2\\,w_t\n",
    "$$\n",
    "\n",
    "and\n",
    "$$\n",
    "\\beas\n",
    "\\hat x_T &=& -k + \\rho\\,\\int_0^1\\,\\sqrt{\\xi(t\\,u)\\,t}\\,\\sqrt{\\cE\\left(\\eta\\,t^H\\, \\tilde W_u   \\right)}\\,dW_u - \\frac 12\\,\\rho^2\\,\\int_0^1 \\,{\\xi(t\\,u)\\,t}\\,\\cE\\left(\\eta\\,t^H\\, \\tilde W_u   \\right)\\,du\\\\\n",
    "&=& -k + \\rho\\,y_t - \\frac 12\\,\\rho^2\\,w_t.\n",
    "\\eeas\n",
    "$$\n",
    "\n",
    "We note in particular that conditioned option values depend only on $w_t$, $y_t$ and $k$."
   ]
  },
  {
   "cell_type": "code",
   "execution_count": 14,
   "metadata": {
    "collapsed": false
   },
   "outputs": [],
   "source": [
    "c.wy <- function(wy.t,rho){\n",
    "    \n",
    "    function(k){ # k is vector of log-strikes\n",
    "        sig <- sqrt((1 - rho^2) * wy.t[1,])\n",
    "        x.shift <-  rho * wy.t[2,] - 1/2 * rho^2 * wy.t[1,]\n",
    "        c <- exp(x.shift)*BSFormula(1, exp(k-x.shift), T=1,r=0, sig) # With luck, this is a vector of length #paths\n",
    "        return(mean(c)) # Compute expectation of Black-Scholes across paths of volatility\n",
    "        \n",
    "        # Try returning implied volatility\n",
    "        \n",
    "        }\n",
    "    }"
   ]
  },
  {
   "cell_type": "markdown",
   "metadata": {},
   "source": [
    "### Function to generate a list of implied volatilities from the market by expiry"
   ]
  },
  {
   "cell_type": "code",
   "execution_count": 15,
   "metadata": {
    "collapsed": false
   },
   "outputs": [],
   "source": [
    "ivol.list <- function (ivolData) \n",
    "{\n",
    "    \n",
    "    gam <- 1/2\n",
    "    bidVols <- as.numeric(ivolData$Bid)\n",
    "    askVols <- as.numeric(ivolData$Ask)\n",
    "    expDates <- unique(ivolData$Texp)\n",
    "    nSlices <- length(expDates)\n",
    "    slices <- 1:nSlices\n",
    "\n",
    "    res <- vector(\"list\", nSlices)\n",
    "\n",
    "    atmVols <- numeric(nSlices)\n",
    "    atmSkews <- numeric(nSlices)\n",
    "    \n",
    "    for (slice in slices) {\n",
    "        t <- expDates[slice]\n",
    "        texp <- ivolData$Texp\n",
    "        bidVol <- bidVols[texp == t]\n",
    "        askVol <- askVols[texp == t]\n",
    "        midVol <- (bidVol + askVol)/2\n",
    "        f <- (ivolData$Fwd[texp == t])[1]\n",
    "        k <- log(ivolData$Strike[texp == t]/f)\n",
    "        include <- !is.na(midVol)\n",
    "        kIn <- k[include]\n",
    "        volInterp <- function(xout) {\n",
    "            stinterp(x = kIn, y = midVol[include], xout)$y\n",
    "        }\n",
    "        atmVol <- volInterp(0)\n",
    "    \n",
    "        bidVoln <- bidVol[include]/atmVol\n",
    "        askVoln <- askVol[include]/atmVol\n",
    "        midVoln <- midVol[include]/atmVol\n",
    "        spreadn <- askVoln - bidVoln\n",
    "        \n",
    "        t.gamma <- t^gam\n",
    "        \n",
    "        z <- kIn/(atmVol * t.gamma)\n",
    "        \n",
    "        zmin <- min(z)\n",
    "        zmax <- max(z)\n",
    "        \n",
    "        volInterpn <- function(xout) {\n",
    "            stinterp(x = z, y = midVoln, xout)$y\n",
    "        }\n",
    "        \n",
    "        atmSkewn <- (volInterpn(0.01) - volInterpn(-0.01))/0.02\n",
    "        \n",
    "        atmVols[slice] <- atmVol\n",
    "        atmSkews[slice] <- atmSkewn\n",
    "        \n",
    "        res[[slice]] <- list(\n",
    "            expiry=t,\n",
    "            k=kIn,\n",
    "            bidVol=bidVol[include],\n",
    "            askVol=askVol[include],\n",
    "            midVol=midVol[include],\n",
    "            atmVol=atmVol,\n",
    "            bidVoln=bidVoln,\n",
    "            askVoln=askVoln,\n",
    "            midVoln=midVoln,\n",
    "            spreadn=spreadn\n",
    "            )\n",
    "        }\n",
    "        \n",
    "        return(res)\n",
    "}"
   ]
  },
  {
   "cell_type": "markdown",
   "metadata": {},
   "source": [
    "### Plot one smile"
   ]
  },
  {
   "cell_type": "code",
   "execution_count": 16,
   "metadata": {
    "collapsed": false
   },
   "outputs": [
    {
     "data": {
      "image/png": "[encoded data removed]",
      "text/plain": [
       "plot without title"
      ]
     },
     "metadata": {},
     "output_type": "display_data"
    }
   ],
   "source": [
    "ivolData <- spxIvolList[[\"20130814\"]]\n",
    "ivols <- ivol.list(ivolData)\n",
    "iv <- ivols[[5]]\n",
    "plot(iv$k,iv$bidVol,pch=24,cex=.3,col=\"red\",ylab=\"implied volatility\",xlab=\"Log-strike k\")\n",
    "points(iv$k,iv$askVol,pch=24,cex=.3,col=\"blue\")"
   ]
  },
  {
   "cell_type": "markdown",
   "metadata": {},
   "source": [
    "### Finally, a function to compute a grid of values of the objective function"
   ]
  },
  {
   "cell_type": "code",
   "execution_count": 17,
   "metadata": {
    "collapsed": true
   },
   "outputs": [],
   "source": [
    "xi.func <- function(t){0.04+t*0}"
   ]
  },
  {
   "cell_type": "code",
   "execution_count": 18,
   "metadata": {
    "collapsed": true
   },
   "outputs": [],
   "source": [
    "objectiveMC.cheb.conditioned <- function(dim, domain, xi.func, ivolData, paths, steps){\n",
    "\n",
    "#function(num, domain, xi=0.04, ivolData, paths, steps, distrib = 100, max.cores = 8){\n",
    "    require(chebpol)\n",
    "    require(foreach)\n",
    "    require(doParallel)\n",
    "    \n",
    "    ## First generate the grid-points\n",
    "    knots <- chebknots(dim, intervals=domain)\n",
    "    H.vec <- knots[[1]]\n",
    "    etatilde.vec <- knots[[2]]\n",
    "    rho.vec <- knots[[3]]\n",
    "    \n",
    "    ## Define the output array\n",
    "    val <- array(NA,dim=dim)\n",
    "    \n",
    "    ## Put input market implied vols into a more convenient format\n",
    "    ivols <- ivol.list(ivolData)\n",
    "    nSlices <- length(ivols)\n",
    "    expiries <- sort(unique(ivolData$Texp))\n",
    "    \n",
    "#     if(is.null(xi.func)){xi.func <- function(t){0.04+t*0}}\n",
    "    xi.func <- function(t){0.04+t*0}\n",
    " \n",
    "    ######################################################################################################\n",
    "    ## For each H, store a matrix of W and Wtilde\n",
    "    cl.num <- detectCores() # Should be 8\n",
    "    cl<-makeCluster(cl.num)\n",
    "    registerDoParallel(cl)\n",
    "    \n",
    "    # Note that we need to export the function so it is available in each of the forked environments\n",
    "    matrix.list <- foreach(i=1:length(H.vec),.export=c('hybridSchemeH')) %dopar% {\n",
    "            hybridSchemeH(H=H.vec[i])(N=paths, steps=steps)\n",
    "        }\n",
    "    stopCluster(cl)\n",
    "    ######################################################################################################\n",
    "    \n",
    "    # So far, about 25 seconds should have elapsed\n",
    "       \n",
    "    ######################################################################################################\n",
    "    ## Function that given H and etatilde, computes values of the objective for each value of rho\n",
    "    obj.by.etatildeH <- function(h.index,etatilde.index){\n",
    "        \n",
    "        H <- H.vec[h.index]\n",
    "        etatilde <- etatilde.vec[etatilde.index]\n",
    "        pathMatrix <- matrix.list[[h.index]]\n",
    "        \n",
    "        wy.expiries <- vapply(expiries,FUN=wy.list(xi=xi.func,H,etatilde,\n",
    "                                       pathMatrix), FUN.VALUE=array(0,dim=c(2,paths)))\n",
    "        # Given H and etatilde, we have w.t and y.t for each expiry\n",
    "    \n",
    "        sq.dist <- 0\n",
    "        l.dist <- 0\n",
    "                              \n",
    "        # Now the loop over values of rho\n",
    "                              \n",
    "        for (rho.index in 1:length(H.vec)){\n",
    "        \n",
    "            rho <- rho.vec[rho.index]\n",
    "        \n",
    "            for (slice in 1:nSlices){\n",
    "        \n",
    "                wy.matrix <- wy.expiries[,,slice]\n",
    "                iv <- ivols[[slice]]\n",
    "                expiry <- iv$expiry\n",
    "                atmVolMkt <- iv$atmVol\n",
    "                atmVolModel <- BSImpliedVolCall(S0=1,K=1,T=expiry,r=0,c.wy(wy.matrix,rho=rho)(0))\n",
    "                kModel <- iv$k * atmVolModel / atmVolMkt\n",
    "        \n",
    "                callPrices <- sapply(kModel,c.wy(wy.expiries[,,slice],rho=rho))\n",
    "                volsModel <- BSImpliedVolCall(S0=1,K=exp(kModel),T=expiries[slice],r=0,callPrices)\n",
    "                volsModeln <- volsModel/atmVolModel\n",
    "            \n",
    "                # Normalized volatilities\n",
    "                # Note that wy.expiries[,,slice] has w.t in the first row and y.t in the second\n",
    "        \n",
    "                admit <- (volsModeln > 0.1)&(volsModeln < 10) # Check that normalized volatility is reasonable\n",
    "        \n",
    "                dist <- (volsModeln - iv$midVoln)/iv$spreadn * admit # Should be vector same length as kIn\n",
    "                sq.dist <- sq.dist + sum(dist^2)\n",
    "                l.dist <- l.dist + sum(admit) # Adjust for non-admissible points that contribute 0 to dist\n",
    "            }\n",
    "            val[h.index, etatilde.index, rho.index] <<- sq.dist/l.dist\n",
    "        }\n",
    "        \n",
    "    }\n",
    "    ######################################################################################################\n",
    "#     ## Conventional loop\n",
    "#     for (h.index in 4:length(H.vec)){\n",
    "#         for (etatilde.index in 4:length(etatilde.vec)){\n",
    "#             obj.by.etatildeH(h.index, etatilde.index)\n",
    "#             }\n",
    "#     }    \n",
    "    ######################################################################################################\n",
    "    ## Loop using doparallel and foreach\n",
    "    cl.num <- detectCores() # Should be 8\n",
    "    cl<-makeCluster(cl.num)\n",
    "    registerDoParallel(cl)\n",
    "    \n",
    "    foreach(h.index=1:length(H.vec)) %:%\n",
    "        foreach(etatilde.index=1:length(etatilde.vec)) %do% {obj.by.etatildeH(h.index, etatilde.index)}\n",
    "    \n",
    "    stopCluster(cl)\n",
    "    ###################################################################################################### \n",
    "    \n",
    "    return(val)\n",
    "}"
   ]
  },
  {
   "cell_type": "code",
   "execution_count": 19,
   "metadata": {
    "collapsed": false
   },
   "outputs": [
    {
     "data": {
      "text/plain": [
       "   user  system elapsed \n",
       " 79.505   6.352  90.286 "
      ]
     },
     "metadata": {},
     "output_type": "display_data"
    }
   ],
   "source": [
    "system.time(objFinal <- objectiveMC.cheb.conditioned(dim=c(5,5,5), domain, xi=NULL, ivolData, paths=1e3,steps=200))"
   ]
  },
  {
   "cell_type": "code",
   "execution_count": 20,
   "metadata": {
    "collapsed": false
   },
   "outputs": [
    {
     "data": {
      "text/html": [
       "<ol class=list-inline>\n",
       "\t<li>6.82870290942342</li>\n",
       "\t<li>3.92055627822998</li>\n",
       "\t<li>8.36239040077537</li>\n",
       "\t<li>6.8165563504512</li>\n",
       "\t<li>32.6204506489239</li>\n",
       "\t<li>5.79735213292615</li>\n",
       "\t<li>4.70431703999296</li>\n",
       "\t<li>8.19070510994052</li>\n",
       "\t<li>5.13538759854046</li>\n",
       "\t<li>22.2940658015852</li>\n",
       "\t<li>4.92200111231327</li>\n",
       "\t<li>8.04126552921411</li>\n",
       "\t<li>9.32639307890756</li>\n",
       "\t<li>6.11232514303039</li>\n",
       "\t<li>10.1781160272897</li>\n",
       "\t<li>5.47417530069182</li>\n",
       "\t<li>11.0349269794782</li>\n",
       "\t<li>11.9961206755818</li>\n",
       "\t<li>7.83520064136331</li>\n",
       "\t<li>10.3334323512397</li>\n",
       "\t<li>6.77918993161128</li>\n",
       "\t<li>14.4079473013154</li>\n",
       "\t<li>14.3548452740922</li>\n",
       "\t<li>10.2475117408369</li>\n",
       "\t<li>16.0698594956107</li>\n",
       "\t<li>7.27698742303529</li>\n",
       "\t<li>3.55495613042186</li>\n",
       "\t<li>8.6646064062644</li>\n",
       "\t<li>6.62469016785881</li>\n",
       "\t<li>32.8192003107249</li>\n",
       "\t<li>6.12235662813759</li>\n",
       "\t<li>4.51691275191672</li>\n",
       "\t<li>8.50723182195489</li>\n",
       "\t<li>4.93133670712937</li>\n",
       "\t<li>22.4042427845102</li>\n",
       "\t<li>5.0326771448228</li>\n",
       "\t<li>7.50896064502165</li>\n",
       "\t<li>9.67225777005694</li>\n",
       "\t<li>5.45666704342423</li>\n",
       "\t<li>10.1044964038844</li>\n",
       "\t<li>5.37172408599</li>\n",
       "\t<li>10.7949807356742</li>\n",
       "\t<li>12.3750465283983</li>\n",
       "\t<li>7.64844157153473</li>\n",
       "\t<li>9.9984849683026</li>\n",
       "\t<li>6.55904803778396</li>\n",
       "\t<li>13.7340248182616</li>\n",
       "\t<li>14.7611130285479</li>\n",
       "\t<li>9.89880997379407</li>\n",
       "\t<li>15.7415944545967</li>\n",
       "\t<li>8.06571456468513</li>\n",
       "\t<li>3.40732545281665</li>\n",
       "\t<li>9.15106310656239</li>\n",
       "\t<li>6.45925904918187</li>\n",
       "\t<li>33.1191605809191</li>\n",
       "\t<li>6.72530175407268</li>\n",
       "\t<li>4.24769380280789</li>\n",
       "\t<li>9.01919639936844</li>\n",
       "\t<li>4.58997603616166</li>\n",
       "\t<li>22.5900299841882</li>\n",
       "\t<li>5.30877247417873</li>\n",
       "\t<li>6.90119501654315</li>\n",
       "\t<li>10.2288776553535</li>\n",
       "\t<li>4.69930359144895</li>\n",
       "\t<li>10.0385424407606</li>\n",
       "\t<li>5.31442299283536</li>\n",
       "\t<li>10.1395441206615</li>\n",
       "\t<li>12.9748626495822</li>\n",
       "\t<li>6.9204800200414</li>\n",
       "\t<li>9.56197356046885</li>\n",
       "\t<li>6.31328095526971</li>\n",
       "\t<li>13.0649175627003</li>\n",
       "\t<li>15.3984105420288</li>\n",
       "\t<li>9.12324644336075</li>\n",
       "\t<li>15.1466305607761</li>\n",
       "\t<li>9.15207413667963</li>\n",
       "\t<li>3.41236048149862</li>\n",
       "\t<li>9.73641854022692</li>\n",
       "\t<li>6.33187069772797</li>\n",
       "\t<li>33.4674224237635</li>\n",
       "\t<li>7.60494609705864</li>\n",
       "\t<li>4.23936911686994</li>\n",
       "\t<li>9.64101667786759</li>\n",
       "\t<li>4.27717100822246</li>\n",
       "\t<li>22.8295237930097</li>\n",
       "\t<li>5.80916318133642</li>\n",
       "\t<li>6.54758408667402</li>\n",
       "\t<li>10.906097194514</li>\n",
       "\t<li>4.06162144466512</li>\n",
       "\t<li>10.0243468418569</li>\n",
       "\t<li>5.39634555852314</li>\n",
       "\t<li>9.635292556564</li>\n",
       "\t<li>13.6948410896295</li>\n",
       "\t<li>6.21439563659947</li>\n",
       "\t<li>9.15454556942718</li>\n",
       "\t<li>6.14918255977913</li>\n",
       "\t<li>12.3169928587553</li>\n",
       "\t<li>16.1627317649642</li>\n",
       "\t<li>8.49909344373533</li>\n",
       "\t<li>14.3899616757032</li>\n",
       "\t<li>10.5088498853023</li>\n",
       "\t<li>3.75482655064197</li>\n",
       "\t<li>10.2748034227731</li>\n",
       "\t<li>6.25659263627963</li>\n",
       "\t<li>33.8339365218593</li>\n",
       "\t<li>8.81829667155095</li>\n",
       "\t<li>4.48796300527595</li>\n",
       "\t<li>10.2232021629922</li>\n",
       "\t<li>4.10650082901306</li>\n",
       "\t<li>23.0703456229704</li>\n",
       "\t<li>6.66612428811355</li>\n",
       "\t<li>6.56088694704784</li>\n",
       "\t<li>11.5612800869238</li>\n",
       "\t<li>3.69544769248829</li>\n",
       "\t<li>10.0528999651007</li>\n",
       "\t<li>5.73302287175698</li>\n",
       "\t<li>9.48604624549391</li>\n",
       "\t<li>14.4045741676997</li>\n",
       "\t<li>5.9642399758476</li>\n",
       "\t<li>8.85803049324534</li>\n",
       "\t<li>6.17150480039993</li>\n",
       "\t<li>11.9551133463635</li>\n",
       "\t<li>16.9371178398391</li>\n",
       "\t<li>8.1004226525957</li>\n",
       "\t<li>13.7924856971112</li>\n",
       "</ol>\n"
      ],
      "text/latex": [
       "\\begin{enumerate*}\n",
       "\\item 6.82870290942342\n",
       "\\item 3.92055627822998\n",
       "\\item 8.36239040077537\n",
       "\\item 6.8165563504512\n",
       "\\item 32.6204506489239\n",
       "\\item 5.79735213292615\n",
       "\\item 4.70431703999296\n",
       "\\item 8.19070510994052\n",
       "\\item 5.13538759854046\n",
       "\\item 22.2940658015852\n",
       "\\item 4.92200111231327\n",
       "\\item 8.04126552921411\n",
       "\\item 9.32639307890756\n",
       "\\item 6.11232514303039\n",
       "\\item 10.1781160272897\n",
       "\\item 5.47417530069182\n",
       "\\item 11.0349269794782\n",
       "\\item 11.9961206755818\n",
       "\\item 7.83520064136331\n",
       "\\item 10.3334323512397\n",
       "\\item 6.77918993161128\n",
       "\\item 14.4079473013154\n",
       "\\item 14.3548452740922\n",
       "\\item 10.2475117408369\n",
       "\\item 16.0698594956107\n",
       "\\item 7.27698742303529\n",
       "\\item 3.55495613042186\n",
       "\\item 8.6646064062644\n",
       "\\item 6.62469016785881\n",
       "\\item 32.8192003107249\n",
       "\\item 6.12235662813759\n",
       "\\item 4.51691275191672\n",
       "\\item 8.50723182195489\n",
       "\\item 4.93133670712937\n",
       "\\item 22.4042427845102\n",
       "\\item 5.0326771448228\n",
       "\\item 7.50896064502165\n",
       "\\item 9.67225777005694\n",
       "\\item 5.45666704342423\n",
       "\\item 10.1044964038844\n",
       "\\item 5.37172408599\n",
       "\\item 10.7949807356742\n",
       "\\item 12.3750465283983\n",
       "\\item 7.64844157153473\n",
       "\\item 9.9984849683026\n",
       "\\item 6.55904803778396\n",
       "\\item 13.7340248182616\n",
       "\\item 14.7611130285479\n",
       "\\item 9.89880997379407\n",
       "\\item 15.7415944545967\n",
       "\\item 8.06571456468513\n",
       "\\item 3.40732545281665\n",
       "\\item 9.15106310656239\n",
       "\\item 6.45925904918187\n",
       "\\item 33.1191605809191\n",
       "\\item 6.72530175407268\n",
       "\\item 4.24769380280789\n",
       "\\item 9.01919639936844\n",
       "\\item 4.58997603616166\n",
       "\\item 22.5900299841882\n",
       "\\item 5.30877247417873\n",
       "\\item 6.90119501654315\n",
       "\\item 10.2288776553535\n",
       "\\item 4.69930359144895\n",
       "\\item 10.0385424407606\n",
       "\\item 5.31442299283536\n",
       "\\item 10.1395441206615\n",
       "\\item 12.9748626495822\n",
       "\\item 6.9204800200414\n",
       "\\item 9.56197356046885\n",
       "\\item 6.31328095526971\n",
       "\\item 13.0649175627003\n",
       "\\item 15.3984105420288\n",
       "\\item 9.12324644336075\n",
       "\\item 15.1466305607761\n",
       "\\item 9.15207413667963\n",
       "\\item 3.41236048149862\n",
       "\\item 9.73641854022692\n",
       "\\item 6.33187069772797\n",
       "\\item 33.4674224237635\n",
       "\\item 7.60494609705864\n",
       "\\item 4.23936911686994\n",
       "\\item 9.64101667786759\n",
       "\\item 4.27717100822246\n",
       "\\item 22.8295237930097\n",
       "\\item 5.80916318133642\n",
       "\\item 6.54758408667402\n",
       "\\item 10.906097194514\n",
       "\\item 4.06162144466512\n",
       "\\item 10.0243468418569\n",
       "\\item 5.39634555852314\n",
       "\\item 9.635292556564\n",
       "\\item 13.6948410896295\n",
       "\\item 6.21439563659947\n",
       "\\item 9.15454556942718\n",
       "\\item 6.14918255977913\n",
       "\\item 12.3169928587553\n",
       "\\item 16.1627317649642\n",
       "\\item 8.49909344373533\n",
       "\\item 14.3899616757032\n",
       "\\item 10.5088498853023\n",
       "\\item 3.75482655064197\n",
       "\\item 10.2748034227731\n",
       "\\item 6.25659263627963\n",
       "\\item 33.8339365218593\n",
       "\\item 8.81829667155095\n",
       "\\item 4.48796300527595\n",
       "\\item 10.2232021629922\n",
       "\\item 4.10650082901306\n",
       "\\item 23.0703456229704\n",
       "\\item 6.66612428811355\n",
       "\\item 6.56088694704784\n",
       "\\item 11.5612800869238\n",
       "\\item 3.69544769248829\n",
       "\\item 10.0528999651007\n",
       "\\item 5.73302287175698\n",
       "\\item 9.48604624549391\n",
       "\\item 14.4045741676997\n",
       "\\item 5.9642399758476\n",
       "\\item 8.85803049324534\n",
       "\\item 6.17150480039993\n",
       "\\item 11.9551133463635\n",
       "\\item 16.9371178398391\n",
       "\\item 8.1004226525957\n",
       "\\item 13.7924856971112\n",
       "\\end{enumerate*}\n"
      ],
      "text/markdown": [
       "1. 6.82870290942342\n",
       "2. 3.92055627822998\n",
       "3. 8.36239040077537\n",
       "4. 6.8165563504512\n",
       "5. 32.6204506489239\n",
       "6. 5.79735213292615\n",
       "7. 4.70431703999296\n",
       "8. 8.19070510994052\n",
       "9. 5.13538759854046\n",
       "10. 22.2940658015852\n",
       "11. 4.92200111231327\n",
       "12. 8.04126552921411\n",
       "13. 9.32639307890756\n",
       "14. 6.11232514303039\n",
       "15. 10.1781160272897\n",
       "16. 5.47417530069182\n",
       "17. 11.0349269794782\n",
       "18. 11.9961206755818\n",
       "19. 7.83520064136331\n",
       "20. 10.3334323512397\n",
       "21. 6.77918993161128\n",
       "22. 14.4079473013154\n",
       "23. 14.3548452740922\n",
       "24. 10.2475117408369\n",
       "25. 16.0698594956107\n",
       "26. 7.27698742303529\n",
       "27. 3.55495613042186\n",
       "28. 8.6646064062644\n",
       "29. 6.62469016785881\n",
       "30. 32.8192003107249\n",
       "31. 6.12235662813759\n",
       "32. 4.51691275191672\n",
       "33. 8.50723182195489\n",
       "34. 4.93133670712937\n",
       "35. 22.4042427845102\n",
       "36. 5.0326771448228\n",
       "37. 7.50896064502165\n",
       "38. 9.67225777005694\n",
       "39. 5.45666704342423\n",
       "40. 10.1044964038844\n",
       "41. 5.37172408599\n",
       "42. 10.7949807356742\n",
       "43. 12.3750465283983\n",
       "44. 7.64844157153473\n",
       "45. 9.9984849683026\n",
       "46. 6.55904803778396\n",
       "47. 13.7340248182616\n",
       "48. 14.7611130285479\n",
       "49. 9.89880997379407\n",
       "50. 15.7415944545967\n",
       "51. 8.06571456468513\n",
       "52. 3.40732545281665\n",
       "53. 9.15106310656239\n",
       "54. 6.45925904918187\n",
       "55. 33.1191605809191\n",
       "56. 6.72530175407268\n",
       "57. 4.24769380280789\n",
       "58. 9.01919639936844\n",
       "59. 4.58997603616166\n",
       "60. 22.5900299841882\n",
       "61. 5.30877247417873\n",
       "62. 6.90119501654315\n",
       "63. 10.2288776553535\n",
       "64. 4.69930359144895\n",
       "65. 10.0385424407606\n",
       "66. 5.31442299283536\n",
       "67. 10.1395441206615\n",
       "68. 12.9748626495822\n",
       "69. 6.9204800200414\n",
       "70. 9.56197356046885\n",
       "71. 6.31328095526971\n",
       "72. 13.0649175627003\n",
       "73. 15.3984105420288\n",
       "74. 9.12324644336075\n",
       "75. 15.1466305607761\n",
       "76. 9.15207413667963\n",
       "77. 3.41236048149862\n",
       "78. 9.73641854022692\n",
       "79. 6.33187069772797\n",
       "80. 33.4674224237635\n",
       "81. 7.60494609705864\n",
       "82. 4.23936911686994\n",
       "83. 9.64101667786759\n",
       "84. 4.27717100822246\n",
       "85. 22.8295237930097\n",
       "86. 5.80916318133642\n",
       "87. 6.54758408667402\n",
       "88. 10.906097194514\n",
       "89. 4.06162144466512\n",
       "90. 10.0243468418569\n",
       "91. 5.39634555852314\n",
       "92. 9.635292556564\n",
       "93. 13.6948410896295\n",
       "94. 6.21439563659947\n",
       "95. 9.15454556942718\n",
       "96. 6.14918255977913\n",
       "97. 12.3169928587553\n",
       "98. 16.1627317649642\n",
       "99. 8.49909344373533\n",
       "100. 14.3899616757032\n",
       "101. 10.5088498853023\n",
       "102. 3.75482655064197\n",
       "103. 10.2748034227731\n",
       "104. 6.25659263627963\n",
       "105. 33.8339365218593\n",
       "106. 8.81829667155095\n",
       "107. 4.48796300527595\n",
       "108. 10.2232021629922\n",
       "109. 4.10650082901306\n",
       "110. 23.0703456229704\n",
       "111. 6.66612428811355\n",
       "112. 6.56088694704784\n",
       "113. 11.5612800869238\n",
       "114. 3.69544769248829\n",
       "115. 10.0528999651007\n",
       "116. 5.73302287175698\n",
       "117. 9.48604624549391\n",
       "118. 14.4045741676997\n",
       "119. 5.9642399758476\n",
       "120. 8.85803049324534\n",
       "121. 6.17150480039993\n",
       "122. 11.9551133463635\n",
       "123. 16.9371178398391\n",
       "124. 8.1004226525957\n",
       "125. 13.7924856971112\n",
       "\n",
       "\n"
      ],
      "text/plain": [
       ", , 1\n",
       "\n",
       "          [,1]      [,2]      [,3]      [,4]     [,5]\n",
       "[1,]  6.828703  5.797352  4.922001  5.474175  6.77919\n",
       "[2,]  3.920556  4.704317  8.041266 11.034927 14.40795\n",
       "[3,]  8.362390  8.190705  9.326393 11.996121 14.35485\n",
       "[4,]  6.816556  5.135388  6.112325  7.835201 10.24751\n",
       "[5,] 32.620451 22.294066 10.178116 10.333432 16.06986\n",
       "\n",
       ", , 2\n",
       "\n",
       "          [,1]      [,2]      [,3]      [,4]      [,5]\n",
       "[1,]  7.276987  6.122357  5.032677  5.371724  6.559048\n",
       "[2,]  3.554956  4.516913  7.508961 10.794981 13.734025\n",
       "[3,]  8.664606  8.507232  9.672258 12.375047 14.761113\n",
       "[4,]  6.624690  4.931337  5.456667  7.648442  9.898810\n",
       "[5,] 32.819200 22.404243 10.104496  9.998485 15.741594\n",
       "\n",
       ", , 3\n",
       "\n",
       "          [,1]      [,2]      [,3]      [,4]      [,5]\n",
       "[1,]  8.065715  6.725302  5.308772  5.314423  6.313281\n",
       "[2,]  3.407325  4.247694  6.901195 10.139544 13.064918\n",
       "[3,]  9.151063  9.019196 10.228878 12.974863 15.398411\n",
       "[4,]  6.459259  4.589976  4.699304  6.920480  9.123246\n",
       "[5,] 33.119161 22.590030 10.038542  9.561974 15.146631\n",
       "\n",
       ", , 4\n",
       "\n",
       "          [,1]      [,2]      [,3]      [,4]      [,5]\n",
       "[1,]  9.152074  7.604946  5.809163  5.396346  6.149183\n",
       "[2,]  3.412360  4.239369  6.547584  9.635293 12.316993\n",
       "[3,]  9.736419  9.641017 10.906097 13.694841 16.162732\n",
       "[4,]  6.331871  4.277171  4.061621  6.214396  8.499093\n",
       "[5,] 33.467422 22.829524 10.024347  9.154546 14.389962\n",
       "\n",
       ", , 5\n",
       "\n",
       "          [,1]      [,2]      [,3]      [,4]      [,5]\n",
       "[1,] 10.508850  8.818297  6.666124  5.733023  6.171505\n",
       "[2,]  3.754827  4.487963  6.560887  9.486046 11.955113\n",
       "[3,] 10.274803 10.223202 11.561280 14.404574 16.937118\n",
       "[4,]  6.256593  4.106501  3.695448  5.964240  8.100423\n",
       "[5,] 33.833937 23.070346 10.052900  8.858030 13.792486\n"
      ]
     },
     "metadata": {},
     "output_type": "display_data"
    }
   ],
   "source": [
    "objFinal"
   ]
  },
  {
   "cell_type": "markdown",
   "metadata": {},
   "source": [
    "About 8 minutes to compute the whole matrix with 10,000 paths"
   ]
  },
  {
   "cell_type": "markdown",
   "metadata": {},
   "source": [
    "# Chebyshev interpolation and minimization of the objective function\n",
    "\n",
    "Now we have the grid of values of the objective function at the Chebyshev knots, we can proceed to compute the optimal parameter set."
   ]
  },
  {
   "cell_type": "markdown",
   "metadata": {},
   "source": [
    "### Function to convert grid of objective function values to Chebyshev polynomial interpolation"
   ]
  },
  {
   "cell_type": "code",
   "execution_count": 21,
   "metadata": {
    "collapsed": false
   },
   "outputs": [],
   "source": [
    "objectiveMC.interpolation <- function(domain, obj_vals){\n",
    "  require(chebpol)\n",
    "  ## First generate the grid-points\n",
    "  knots <- chebknots(dim(obj_vals), intervals=domain)\n",
    "  cheb <- chebappx(val=obj_vals, intervals=domain)\n",
    "  return(list(knots=knots, cheb=cheb))\n",
    "}"
   ]
  },
  {
   "cell_type": "code",
   "execution_count": 22,
   "metadata": {
    "collapsed": false
   },
   "outputs": [],
   "source": [
    "obj.cheb.JG <- objectiveMC.interpolation(domain, obj_vals=objFinal)$cheb"
   ]
  },
  {
   "cell_type": "markdown",
   "metadata": {},
   "source": [
    "### Now find the optimal parameters from the interpolating Chebyshev polynomial\n",
    "\n",
    "##### Input:\n",
    "- obj.cheb .. Chebyshev interpolation of objective function\n",
    "- domain ... domain of interpolation\n",
    "- guess.method ... \"sobol\" for choosing initial guesses according to Sobol points, \"chebyshev\" for using the Chebyshev knots.\n",
    "- K ... number of Sobol points used as intial guesses. Otherwise the number of polynomials in each coordinate (a vector).\n",
    "- method ... method for optim\n",
    "\n",
    "##### Output: \n",
    "The full output of optim at the minimizing initail guess, together with the minimizing initial guess and the var of the minimal values for all the initial guesses.\n",
    "\n",
    "##### Remark: \n",
    "\n",
    "obj.cheb is a polynomial, so we should be able to take the derivatives explicitly to use in the optimization. This does not seem possible in chebpol. A dedicated multivariate polynomial optimizer does not seem to exist in R."
   ]
  },
  {
   "cell_type": "markdown",
   "metadata": {},
   "source": [
    "First an auxiliary function to construct the initial guesses:"
   ]
  },
  {
   "cell_type": "code",
   "execution_count": 23,
   "metadata": {
    "collapsed": true
   },
   "outputs": [],
   "source": [
    "optim.objective.param0 <- function(guess.method, domain, K){\n",
    "  if(guess.method == \"sobol\"){ ## use Sobol points\n",
    "    stopifnot(length(K)==1) # stop if K is not a number\n",
    "    param0 <- sobol(K, dim=3) ## these are in [0,1]\n",
    "    to.domain <- function(x, domain){\n",
    "      y <- rep(NA, length(domain))\n",
    "      for(i in 1:length(domain))\n",
    "        y[i] <- domain[[i]][1] + x[i]*(domain[[i]][2] - domain[[i]][1])\n",
    "      return(y)\n",
    "    }\n",
    "    param0 <- t(apply(param0, 1, function(x) to.domain(x, domain)))\n",
    "  }\n",
    "  else{ ## use Chebyshev grid points\n",
    "    stopifnot(length(K) == 3)\n",
    "    knots <- chebknots(K, intervals=domain)\n",
    "    param0 <- expand.grid(knots)\n",
    "  }\n",
    "  colnames(param0) <- c(\"H\", \"etaTilde\", \"rho\")\n",
    "  return(param0)\n",
    "}"
   ]
  },
  {
   "cell_type": "markdown",
   "metadata": {},
   "source": [
    "### Now the function that finds the optimum parameters given the polynomial interpolation `obj.cheb`"
   ]
  },
  {
   "cell_type": "code",
   "execution_count": 29,
   "metadata": {
    "collapsed": true
   },
   "outputs": [],
   "source": [
    "optim.objective <- function(obj.cheb, domain, K, \n",
    "                            guess.method=\"sobol\", method=\"L-BFGS-B\"){\n",
    "  require(randtoolbox)\n",
    "  require(chebpol)\n",
    "  lower <- sapply(domain, function(x) x[1]) # lower bound in form assumed by optim\n",
    "  upper <- sapply(domain, function(x) x[2])\n",
    "  ## Choose initial guesses\n",
    "  param0 <- optim.objective.param0(guess.method, domain, K)\n",
    "  ## The optimization routine\n",
    "  f <- function(param0) optim(param0, obj.cheb, method=method, \n",
    "                              lower=lower, upper=upper)\n",
    "  ## apply for each choice of intial parameter\n",
    "  res <- apply(param0, 1, f)\n",
    "  ## extract the values, find the arg.min and return the corresponding values\n",
    "  res.value <- sapply(1:10, function(i) res[[i]]$value)\n",
    "  arg.min.index <- which.min(res.value)\n",
    "  ret <- list(par=res[[arg.min.index]]$par, \n",
    "              value=res[[arg.min.index]]$value,\n",
    "              counts=res[[arg.min.index]]$counts,\n",
    "              convergence=res[[arg.min.index]]$convergence,\n",
    "              message=res[[arg.min.index]]$message,\n",
    "              param0=param0[arg.min.index,],\n",
    "              var.values=var(res.value))\n",
    "  return(ret)\n",
    "}"
   ]
  },
  {
   "cell_type": "code",
   "execution_count": 33,
   "metadata": {
    "collapsed": false
   },
   "outputs": [
    {
     "name": "stderr",
     "output_type": "stream",
     "text": [
      "Loading required package: randtoolbox\n",
      "Loading required package: rngWELL\n",
      "This is randtoolbox. For overview, type 'help(\"randtoolbox\")'.\n"
     ]
    },
    {
     "data": {
      "text/html": [
       "<dl>\n",
       "\t<dt>$par</dt>\n",
       "\t\t<dd><dl class=dl-horizontal>\n",
       "\t<dt>H</dt>\n",
       "\t\t<dd>0.088233616989331</dd>\n",
       "\t<dt>etaTilde</dt>\n",
       "\t\t<dd>0.793732528038617</dd>\n",
       "\t<dt>rho</dt>\n",
       "\t\t<dd>-0.926649987616379</dd>\n",
       "</dl>\n",
       "</dd>\n",
       "\t<dt>$value</dt>\n",
       "\t\t<dd>2.5647969851557</dd>\n",
       "\t<dt>$counts</dt>\n",
       "\t\t<dd><dl class=dl-horizontal>\n",
       "\t<dt>function</dt>\n",
       "\t\t<dd>34</dd>\n",
       "\t<dt>gradient</dt>\n",
       "\t\t<dd>34</dd>\n",
       "</dl>\n",
       "</dd>\n",
       "\t<dt>$convergence</dt>\n",
       "\t\t<dd>0</dd>\n",
       "\t<dt>$message</dt>\n",
       "\t\t<dd>'CONVERGENCE: REL_REDUCTION_OF_F &lt;= FACTR*EPSMCH'</dd>\n",
       "\t<dt>$param0</dt>\n",
       "\t\t<dd><dl class=dl-horizontal>\n",
       "\t<dt>H</dt>\n",
       "\t\t<dd>0.08</dd>\n",
       "\t<dt>etaTilde</dt>\n",
       "\t\t<dd>0.5</dd>\n",
       "\t<dt>rho</dt>\n",
       "\t\t<dd>-0.85</dd>\n",
       "</dl>\n",
       "</dd>\n",
       "\t<dt>$var.values</dt>\n",
       "\t\t<dd>0.302523516232218</dd>\n",
       "</dl>\n"
      ],
      "text/latex": [
       "\\begin{description}\n",
       "\\item[\\$par] \\begin{description*}\n",
       "\\item[H] 0.088233616989331\n",
       "\\item[etaTilde] 0.793732528038617\n",
       "\\item[rho] -0.926649987616379\n",
       "\\end{description*}\n",
       "\n",
       "\\item[\\$value] 2.5647969851557\n",
       "\\item[\\$counts] \\begin{description*}\n",
       "\\item[function] 34\n",
       "\\item[gradient] 34\n",
       "\\end{description*}\n",
       "\n",
       "\\item[\\$convergence] 0\n",
       "\\item[\\$message] 'CONVERGENCE: REL\\_REDUCTION\\_OF\\_F <= FACTR*EPSMCH'\n",
       "\\item[\\$param0] \\begin{description*}\n",
       "\\item[H] 0.08\n",
       "\\item[etaTilde] 0.5\n",
       "\\item[rho] -0.85\n",
       "\\end{description*}\n",
       "\n",
       "\\item[\\$var.values] 0.302523516232218\n",
       "\\end{description}\n"
      ],
      "text/markdown": [
       "$par\n",
       ":   H\n",
       ":   0.088233616989331etaTilde\n",
       ":   0.793732528038617rho\n",
       ":   -0.926649987616379\n",
       "\n",
       "\n",
       "$value\n",
       ":   2.5647969851557\n",
       "$counts\n",
       ":   function\n",
       ":   34gradient\n",
       ":   34\n",
       "\n",
       "\n",
       "$convergence\n",
       ":   0\n",
       "$message\n",
       ":   'CONVERGENCE: REL_REDUCTION_OF_F &lt;= FACTR*EPSMCH'\n",
       "$param0\n",
       ":   H\n",
       ":   0.08etaTilde\n",
       ":   0.5rho\n",
       ":   -0.85\n",
       "\n",
       "\n",
       "$var.values\n",
       ":   0.302523516232218\n",
       "\n",
       "\n"
      ],
      "text/plain": [
       "$par\n",
       "          H    etaTilde         rho \n",
       " 0.08823362  0.79373253 -0.92664999 \n",
       "\n",
       "$value\n",
       "[1] 2.564797\n",
       "\n",
       "$counts\n",
       "function gradient \n",
       "      34       34 \n",
       "\n",
       "$convergence\n",
       "[1] 0\n",
       "\n",
       "$message\n",
       "[1] \"CONVERGENCE: REL_REDUCTION_OF_F <= FACTR*EPSMCH\"\n",
       "\n",
       "$param0\n",
       "       H etaTilde      rho \n",
       "    0.08     0.50    -0.85 \n",
       "\n",
       "$var.values\n",
       "[1] 0.3025235\n"
      ]
     },
     "metadata": {},
     "output_type": "display_data"
    }
   ],
   "source": [
    "optim.objective(obj.cheb.JG, domain, K=100, guess.method=\"sobol\")"
   ]
  },
  {
   "cell_type": "code",
   "execution_count": 34,
   "metadata": {
    "collapsed": false
   },
   "outputs": [
    {
     "data": {
      "text/html": [
       "<dl>\n",
       "\t<dt>$par</dt>\n",
       "\t\t<dd><dl class=dl-horizontal>\n",
       "\t<dt>H</dt>\n",
       "\t\t<dd>0.0882381266296004</dd>\n",
       "\t<dt>etaTilde</dt>\n",
       "\t\t<dd>0.79371315949073</dd>\n",
       "\t<dt>rho</dt>\n",
       "\t\t<dd>-0.926283828529304</dd>\n",
       "</dl>\n",
       "</dd>\n",
       "\t<dt>$value</dt>\n",
       "\t\t<dd>2.56479234763153</dd>\n",
       "\t<dt>$counts</dt>\n",
       "\t\t<dd><dl class=dl-horizontal>\n",
       "\t<dt>function</dt>\n",
       "\t\t<dd>30</dd>\n",
       "\t<dt>gradient</dt>\n",
       "\t\t<dd>30</dd>\n",
       "</dl>\n",
       "</dd>\n",
       "\t<dt>$convergence</dt>\n",
       "\t\t<dd>0</dd>\n",
       "\t<dt>$message</dt>\n",
       "\t\t<dd>'CONVERGENCE: REL_REDUCTION_OF_F &lt;= FACTR*EPSMCH'</dd>\n",
       "\t<dt>$param0</dt>\n",
       "\t\t<dd><table>\n",
       "<thead><tr><th></th><th scope=col>H</th><th scope=col>etaTilde</th><th scope=col>rho</th></tr></thead>\n",
       "<tbody>\n",
       "\t<tr><th scope=row>7</th><td>0.08351141</td><td>0.7175571 </td><td>-0.8048943</td></tr>\n",
       "</tbody>\n",
       "</table>\n",
       "</dd>\n",
       "\t<dt>$var.values</dt>\n",
       "\t\t<dd>0.9753637216639</dd>\n",
       "</dl>\n"
      ],
      "text/latex": [
       "\\begin{description}\n",
       "\\item[\\$par] \\begin{description*}\n",
       "\\item[H] 0.0882381266296004\n",
       "\\item[etaTilde] 0.79371315949073\n",
       "\\item[rho] -0.926283828529304\n",
       "\\end{description*}\n",
       "\n",
       "\\item[\\$value] 2.56479234763153\n",
       "\\item[\\$counts] \\begin{description*}\n",
       "\\item[function] 30\n",
       "\\item[gradient] 30\n",
       "\\end{description*}\n",
       "\n",
       "\\item[\\$convergence] 0\n",
       "\\item[\\$message] 'CONVERGENCE: REL\\_REDUCTION\\_OF\\_F <= FACTR*EPSMCH'\n",
       "\\item[\\$param0] \\begin{tabular}{r|lll}\n",
       "  & H & etaTilde & rho\\\\\n",
       "\\hline\n",
       "\t7 & 0.08351141 & 0.7175571  & -0.8048943\\\\\n",
       "\\end{tabular}\n",
       "\n",
       "\\item[\\$var.values] 0.9753637216639\n",
       "\\end{description}\n"
      ],
      "text/markdown": [
       "$par\n",
       ":   H\n",
       ":   0.0882381266296004etaTilde\n",
       ":   0.79371315949073rho\n",
       ":   -0.926283828529304\n",
       "\n",
       "\n",
       "$value\n",
       ":   2.56479234763153\n",
       "$counts\n",
       ":   function\n",
       ":   30gradient\n",
       ":   30\n",
       "\n",
       "\n",
       "$convergence\n",
       ":   0\n",
       "$message\n",
       ":   'CONVERGENCE: REL_REDUCTION_OF_F &lt;= FACTR*EPSMCH'\n",
       "$param0\n",
       ":   \n",
       "| <!--/--> | H | etaTilde | rho | \n",
       "|---|\n",
       "| 7 | 0.08351141 | 0.7175571  | -0.8048943 | \n",
       "\n",
       "\n",
       "\n",
       "$var.values\n",
       ":   0.9753637216639\n",
       "\n",
       "\n"
      ],
      "text/plain": [
       "$par\n",
       "          H    etaTilde         rho \n",
       " 0.08823813  0.79371316 -0.92628383 \n",
       "\n",
       "$value\n",
       "[1] 2.564792\n",
       "\n",
       "$counts\n",
       "function gradient \n",
       "      30       30 \n",
       "\n",
       "$convergence\n",
       "[1] 0\n",
       "\n",
       "$message\n",
       "[1] \"CONVERGENCE: REL_REDUCTION_OF_F <= FACTR*EPSMCH\"\n",
       "\n",
       "$param0\n",
       "           H  etaTilde        rho\n",
       "7 0.08351141 0.7175571 -0.8048943\n",
       "\n",
       "$var.values\n",
       "[1] 0.9753637\n"
      ]
     },
     "metadata": {},
     "output_type": "display_data"
    }
   ],
   "source": [
    "optim.objective(obj.cheb.JG, domain, K=c(5,5,5), guess.method=\"chebyshev\")"
   ]
  },
  {
   "cell_type": "code",
   "execution_count": 32,
   "metadata": {
    "collapsed": false
   },
   "outputs": [
    {
     "name": "stderr",
     "output_type": "stream",
     "text": [
      "Updating HTML index of packages in '.Library'\n",
      "Making 'packages.html' ... done\n"
     ]
    }
   ],
   "source": [
    "install.packages(\"randtoolbox\")"
   ]
  },
  {
   "cell_type": "code",
   "execution_count": null,
   "metadata": {
    "collapsed": true
   },
   "outputs": [],
   "source": []
  },
  {
   "cell_type": "code",
   "execution_count": null,
   "metadata": {
    "collapsed": true
   },
   "outputs": [],
   "source": []
  }
 ],
 "metadata": {
  "anaconda-cloud": {},
  "kernelspec": {
   "display_name": "R",
   "language": "R",
   "name": "ir"
  },
  "language_info": {
   "codemirror_mode": "r",
   "file_extension": ".r",
   "mimetype": "text/x-r-source",
   "name": "R",
   "pygments_lexer": "r",
   "version": "3.3.2"
  }
 },
 "nbformat": 4,
 "nbformat_minor": 0
}
